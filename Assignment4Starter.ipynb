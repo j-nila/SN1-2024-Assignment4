{
 "cells": [
  {
   "cell_type": "markdown",
   "metadata": {},
   "source": [
    "# Projectile motion #\n",
    "\n",
    "***Motion in two dimensions under the influence of a constant force***"
   ]
  },
  {
   "cell_type": "markdown",
   "metadata": {},
   "source": [
    "### By\n",
    "Student Name\n",
    "\n",
    "Student id\n",
    "\n",
    "Course and section"
   ]
  },
  {
   "cell_type": "markdown",
   "metadata": {},
   "source": [
    "# Background\n",
    "\n",
    "Newton's second law, $F = ma$, predicts the future motion of an object if we know its initial motion and the net force that is acting on the object.  In this lab, we explore this motion when the net force is approximately constant.\n",
    "\n",
    "An object moving through the air near the surface of the earth is subject to the constant gravitational acceleration $g$, directed downward.  If no other forces are acting on the object, i.e. if the object does not have a propulsion system and we neglect air resistance, then the motion of the object is projectile motion.\n",
    "\n",
    "Assume that we want to describe the motion of such an object, starting at time $t = 0$.  We can treat projectile motion as motion in two dimensions with\n",
    "\n",
    "$v_x = v_{0x} = vcos(\\alpha) $\n",
    "\n",
    "$x = x_0 + v_{0x}t$\n",
    "\n",
    "$v_y= v_{0y} + a_yt = vsin(\\alpha) - gt$\n",
    "\n",
    "$y = y_0 + v_{0y}t + \\frac{1}{2}a_yt^2 = y_0 + vsin(\\alpha)t - \\frac{1}{2}gt^2$\n"
   ]
  },
  {
   "cell_type": "markdown",
   "metadata": {},
   "source": [
    "# Part 1 - Football kick"
   ]
  },
  {
   "cell_type": "markdown",
   "metadata": {},
   "source": [
    "## Theory\n",
    "A football needs to follow a certain trajectory for a player to make a successful field goal. To score points, the player must send the ball between the goalposts. If the ball does not go far enough (the kick is \"short\"), or if the ball goes to the left or right of the goalposts instead of between them (the kick is \"wide\"), then the field goal does not count. There are many factors that can affect whether or not a field goal is good, including how the ball is held in place for the kicker, weather conditions like wind and rain, and how far the ball is from the goalposts. In this simulation, we ignore factors like air resitance and the Magnus effect and focus only on distance.\n",
    "\n",
    "Text credit: [Field Goal! The Science Behind a Perfect Football Kick](https://www.sciencebuddies.org/science-fair-projects/project-ideas/Sports_p059/sports-science/science-behind-a-perfect-football-kick#objective)\n",
    "\n",
    "Image credit:  [Ben Finio, Science Buddies](https://www.sciencebuddies.org/image-credit?id=5325)"
   ]
  },
  {
   "cell_type": "code",
   "execution_count": null,
   "metadata": {},
   "outputs": [],
   "source": [
    "from IPython.display import Image\n",
    "Image(filename=\"field-goal-trajectory.jpg\")"
   ]
  },
  {
   "cell_type": "code",
   "execution_count": null,
   "metadata": {},
   "outputs": [],
   "source": [
    "# your code here\n",
    "import math\n",
    "\n",
    "# function distX(t, a, v0)\n",
    "\n",
    "\n",
    "# function distY(t, a, v0)\n",
    "\n",
    "\n",
    "\n",
    "# function findT(a, distanceX, v0)\n",
    "\n",
    "\n",
    "\n",
    "# function findSmallestAngle(distanceX, distanceY, v0)\n",
    "\n",
    "\n",
    "\n",
    "\n",
    "# call findSmallestAngle with the distances 47.5 and 3.05 and v0 25\n",
    "# findSmallestAngle(47.5, 3.05, 25)\n",
    "\n"
   ]
  },
  {
   "cell_type": "markdown",
   "metadata": {},
   "source": [
    "# Part 2 - Ball throw\n",
    "\n",
    "## Theory\n",
    "\n",
    "A ball is moving in two dimensions under the influence of a constant gravitational force. In the absence of any other force, we will expect the velocity in the x-plane to be $vcos(\\alpha)$, and the velocity in the y-plane to be $vsin(\\alpha) - gt$."
   ]
  },
  {
   "cell_type": "markdown",
   "metadata": {},
   "source": [
    "## Experimental Procedure\n",
    "\n",
    "1. Data for the ball throw was taken from the video at [Video analysis](http://labman.phys.utk.edu/video2/video60t.html)\n",
    "2. the calibration instructions were followed, and the ball's position was measured at every frame"
   ]
  },
  {
   "cell_type": "markdown",
   "metadata": {},
   "source": [
    "## Observations and Results\n",
    "\n",
    "### Data Table\n",
    "\n",
    "You will see the first few rows of the collected data below."
   ]
  },
  {
   "cell_type": "code",
   "execution_count": null,
   "metadata": {
    "trusted": true
   },
   "outputs": [],
   "source": [
    "import pandas as pd\n",
    "df = pd.read_csv('https://github.com/j-nila/SN1-2024-Assignment4/blob/main/assignment4data.csv?raw=true')\n",
    "\n",
    "#your code to preview the first 5 rows below\n"
   ]
  },
  {
   "cell_type": "code",
   "execution_count": null,
   "metadata": {},
   "outputs": [],
   "source": [
    "# graph of position x versus time.\n"
   ]
  },
  {
   "cell_type": "code",
   "execution_count": null,
   "metadata": {},
   "outputs": [],
   "source": [
    "# graph of position y versus time.\n"
   ]
  },
  {
   "cell_type": "code",
   "execution_count": null,
   "metadata": {},
   "outputs": [],
   "source": [
    "#fill a list with the y velocity and add to the dataframe\n",
    "v_y_list = [3.0] #starting velocity\n"
   ]
  },
  {
   "cell_type": "code",
   "execution_count": null,
   "metadata": {},
   "outputs": [],
   "source": [
    "#fill a list with the x velocity and add to the dataframe\n",
    "v_x_list = [4.0] #starting velocity\n"
   ]
  },
  {
   "cell_type": "code",
   "execution_count": null,
   "metadata": {},
   "outputs": [],
   "source": [
    "# graph of velocity x versus time."
   ]
  },
  {
   "cell_type": "code",
   "execution_count": null,
   "metadata": {},
   "outputs": [],
   "source": [
    "# graph of velocity y versus time."
   ]
  },
  {
   "cell_type": "markdown",
   "metadata": {},
   "source": [
    "## Discussion and conclusion\n",
    "\n",
    "Normally a place where you would discussion the observations and conclusions. In particular, there seems to be some error in the measurement given that the velocity in the x-dimension is not constant, however it may be because the graph is zoomed to within the uncertainty. \n",
    "\n",
    "Further analysis not required for the Assignment."
   ]
  }
 ],
 "metadata": {
  "kernelspec": {
   "display_name": "Python 3",
   "language": "python",
   "name": "python3"
  },
  "language_info": {
   "codemirror_mode": {
    "name": "ipython",
    "version": 3
   },
   "file_extension": ".py",
   "mimetype": "text/x-python",
   "name": "python",
   "nbconvert_exporter": "python",
   "pygments_lexer": "ipython3",
   "version": "3.12.5"
  }
 },
 "nbformat": 4,
 "nbformat_minor": 4
}
